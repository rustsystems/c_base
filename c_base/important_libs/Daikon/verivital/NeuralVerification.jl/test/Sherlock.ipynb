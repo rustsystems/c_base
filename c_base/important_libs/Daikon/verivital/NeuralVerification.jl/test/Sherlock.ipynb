{
 "cells": [
  {
   "cell_type": "code",
   "execution_count": null,
   "metadata": {},
   "outputs": [],
   "source": [
    "using JuMP\n",
    "using MathProgBase.SolverInterface\n",
    "using GLPKMathProgInterface\n",
    "using LazySets\n",
    "include(\"../src/utils/activation.jl\")\n",
    "include(\"../src/utils/network.jl\")\n",
    "include(\"../src/utils/problem.jl\")\n",
    "include(\"../src/utils/util.jl\")\n",
    "include(\"../src/adversarial/sherlock.jl\")\n",
    "include(\"../src/feasibility/utils/feasibility.jl\")\n",
    "include(\"../src/feasibility/reverify.jl\")"
   ]
  },
  {
   "cell_type": "code",
   "execution_count": null,
   "metadata": {},
   "outputs": [],
   "source": [
    "include(\"../src/adversarial/sherlock.jl\")\n",
    "small_nnet = read_nnet(\"../examples/networks/small_nnet.txt\")\n",
    "inputSet = Hyperrectangle([2.0], [.5])\n",
    "outputSet = Hyperrectangle([10.0], [10.0])\n",
    "problem = Problem(small_nnet, inputSet, outputSet)\n",
    "optimizer = GLPKSolverMIP()\n",
    "solver = Sherlock(optimizer, 0.1)\n",
    "solve(solver, problem)"
   ]
  }
 ],
 "metadata": {
  "kernel_info": {
   "name": "julia-0.6"
  },
  "kernelspec": {
   "display_name": "Julia 0.6.2",
   "language": "julia",
   "name": "julia-0.6"
  },
  "language_info": {
   "file_extension": ".jl",
   "mimetype": "application/julia",
   "name": "julia",
   "version": "0.6.2"
  },
  "nteract": {
   "version": "0.11.7"
  }
 },
 "nbformat": 4,
 "nbformat_minor": 2
}
