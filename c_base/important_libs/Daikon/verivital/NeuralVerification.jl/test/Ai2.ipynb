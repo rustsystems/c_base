{
 "cells": [
  {
   "cell_type": "code",
   "execution_count": 1,
   "metadata": {
    "inputHidden": false,
    "outputHidden": false
   },
   "outputs": [
    {
     "name": "stderr",
     "output_type": "stream",
     "text": [
      "WARNING: using Polyhedra.dim in module NeuralVerification conflicts with an existing identifier.\n"
     ]
    }
   ],
   "source": [
    "using Revise\n",
    "using NeuralVerification"
   ]
  },
  {
   "cell_type": "code",
   "execution_count": 21,
   "metadata": {
    "inputHidden": false,
    "outputHidden": false
   },
   "outputs": [
    {
     "name": "stdout",
     "output_type": "stream",
     "text": [
      "LazySets.VPolytope{Float64}(Array{Float64,1}[[54.5]])\n"
     ]
    },
    {
     "name": "stderr",
     "output_type": "stream",
     "text": [
      "WARNING: Method definition check_inclusion(LazySets.AbstractPolytope{N} where N<:Real, LazySets.AbstractPolytope{N} where N<:Real) in module NeuralVerification at /Users/tomer/.julia/v0.6/NeuralVerification.jl/src/reachability/utils/reachability.jl:23 overwritten at /Users/tomer/.julia/v0.6/NeuralVerification.jl/src/reachability/utils/reachability.jl:23.\n"
     ]
    },
    {
     "data": {
      "text/plain": [
       "true"
      ]
     },
     "execution_count": 21,
     "metadata": {},
     "output_type": "execute_result"
    }
   ],
   "source": [
    "# include(\"../src/reachability/ai2.jl\")\n",
    "# input  = Zonotope([1.5], ones(1, 2))\n",
    "# output = Zonotope([1.5, 1.5], eye(Float64,2,2))\n",
    "A = Matrix{Float64}(undef, 2,1)\n",
    "A[[1, 2]] = [1, -1]\n",
    "input  = HPolytope(A, [0.0, 0.0])\n",
    "output = HPolytope(A, [100.0, 0.0])\n",
    "small_nnet = read_nnet(\"../examples/networks/small_nnet.txt\")\n",
    "solver = Ai2()\n",
    "problem = Problem(small_nnet, input, output)\n",
    "solve(solver, problem)"
   ]
  }
 ],
 "metadata": {
  "kernel_info": {
   "name": "julia-0.6"
  },
  "kernelspec": {
   "display_name": "Julia 0.6.2",
   "language": "julia",
   "name": "julia-0.6"
  },
  "language_info": {
   "file_extension": ".jl",
   "mimetype": "application/julia",
   "name": "julia",
   "version": "0.6.2"
  },
  "nteract": {
   "version": "0.11.6"
  }
 },
 "nbformat": 4,
 "nbformat_minor": 4
}
