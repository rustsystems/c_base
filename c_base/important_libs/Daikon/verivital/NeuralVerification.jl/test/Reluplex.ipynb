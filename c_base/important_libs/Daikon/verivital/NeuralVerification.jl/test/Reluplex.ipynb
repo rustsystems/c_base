{
 "cells": [
  {
   "cell_type": "code",
   "execution_count": 1,
   "metadata": {
    "collapsed": true
   },
   "outputs": [],
   "source": [
    "using JuMP\n",
    "using MathProgBase.SolverInterface\n",
    "using GLPKMathProgInterface\n",
    "using LazySets"
   ]
  },
  {
   "cell_type": "code",
   "execution_count": 2,
   "metadata": {},
   "outputs": [
    {
     "data": {
      "text/plain": [
       "solve (generic function with 2 methods)"
      ]
     },
     "execution_count": 2,
     "metadata": {},
     "output_type": "execute_result"
    }
   ],
   "source": [
    "include(\"../src/utils/activation.jl\")\n",
    "include(\"../src/utils/network.jl\")\n",
    "include(\"../src/utils/problem.jl\")\n",
    "include(\"../src/utils/util.jl\")\n",
    "\n",
    "include(\"../src/reachability/maxSens.jl\")\n",
    "include(\"../src/SMT/Reluplex.jl\")"
   ]
  },
  {
   "cell_type": "code",
   "execution_count": 3,
   "metadata": {},
   "outputs": [
    {
     "name": "stdout",
     "output_type": "stream",
     "text": [
      "depth: 1\n",
      "depth: 2\n",
      "depth: 3\n",
      "depth: 4\n",
      "depth: 5\n",
      "No broken ReLUs - SHOULD RETURN VALUE NOW\n",
      "BitArray{1}[Bool[false, false], Bool[false, false]]\n",
      " input: [0.8]\n"
     ]
    },
    {
     "data": {
      "text/plain": [
       "CounterExampleResult(:holds, [0.8])"
      ]
     },
     "execution_count": 3,
     "metadata": {},
     "output_type": "execute_result"
    }
   ],
   "source": [
    "small_nnet = read_nnet(\"../examples/networks/small_nnet.txt\")\n",
    "A = Array{Float64, 2}(undef, 2,1)\n",
    "A[1,1] = 1\n",
    "A[2,1] = -1\n",
    "#inputSet = HPolytope(A, [1.0,3.0])\n",
    "#outputSet = HPolytope(A,[0.0,1000.0])\n",
    "\n",
    "inputSet = Hyperrectangle([1.0],[.2])\n",
    "outputSet = Hyperrectangle([2.0,], [100.0])\n",
    "problem = Problem(small_nnet, inputSet, outputSet)\n",
    "solver = Reluplex()\n",
    "solve(solver, problem)"
   ]
  },
  {
   "cell_type": "code",
   "execution_count": null,
   "metadata": {
    "collapsed": true
   },
   "outputs": [],
   "source": []
  }
 ],
 "metadata": {
  "kernelspec": {
   "display_name": "Julia 0.6.2",
   "language": "julia",
   "name": "julia-0.6"
  },
  "language_info": {
   "file_extension": ".jl",
   "mimetype": "application/julia",
   "name": "julia",
   "version": "0.6.2"
  }
 },
 "nbformat": 4,
 "nbformat_minor": 2
}
