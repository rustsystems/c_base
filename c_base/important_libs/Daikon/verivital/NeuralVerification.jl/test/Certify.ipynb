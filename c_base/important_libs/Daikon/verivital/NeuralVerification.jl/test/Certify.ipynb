{
 "cells": [
  {
   "cell_type": "code",
   "execution_count": null,
   "metadata": {
    "inputHidden": false,
    "outputHidden": false
   },
   "outputs": [],
   "source": [
    "using JuMP\n",
    "using MathProgBase.SolverInterface\n",
    "using GLPKMathProgInterface\n",
    "using LazySets\n",
    "using SCS\n",
    "include(\"../src/utils/activation.jl\")\n",
    "include(\"../src/utils/network.jl\")\n",
    "include(\"../src/utils/problem.jl\")\n",
    "include(\"../src/utils/util.jl\")\n",
    "include(\"../src/feasibility/utils/feasibility.jl\")\n",
    "include(\"../src/feasibility/certify.jl\")"
   ]
  },
  {
   "cell_type": "code",
   "execution_count": null,
   "metadata": {
    "inputHidden": false,
    "outputHidden": false
   },
   "outputs": [],
   "source": [
    "include(\"../src/feasibility/certify.jl\")\n",
    "small_nnet = read_nnet(\"../examples/networks/tiny_nnet.txt\")\n",
    "optimizer = SCSSolver()\n",
    "solver = Certify(optimizer)\n",
    "inputSet = Hyperrectangle([1.0],[1.0])\n",
    "A = ones(1,1)\n",
    "outputSet = HPolytope(A,[2.1])\n",
    "problem = Problem(small_nnet, inputSet, outputSet)\n",
    "solve(solver, problem)"
   ]
  }
 ],
 "metadata": {
  "kernel_info": {
   "name": "julia-0.6"
  },
  "kernelspec": {
   "display_name": "Julia 0.6.2",
   "language": "julia",
   "name": "julia-0.6"
  },
  "language_info": {
   "file_extension": ".jl",
   "mimetype": "application/julia",
   "name": "julia",
   "version": "0.6.2"
  },
  "nteract": {
   "version": "0.11.7"
  }
 },
 "nbformat": 4,
 "nbformat_minor": 4
}
