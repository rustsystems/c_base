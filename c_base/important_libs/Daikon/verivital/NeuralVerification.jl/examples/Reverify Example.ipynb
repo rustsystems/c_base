{
 "cells": [
  {
   "cell_type": "code",
   "execution_count": 1,
   "metadata": {
    "collapsed": true
   },
   "outputs": [],
   "source": [
    "using JuMP\n",
    "using MathProgBase.SolverInterface\n",
    "using GLPKMathProgInterface"
   ]
  },
  {
   "cell_type": "code",
   "execution_count": 2,
   "metadata": {},
   "outputs": [
    {
     "data": {
      "text/plain": [
       "solve (generic function with 1 method)"
      ]
     },
     "execution_count": 2,
     "metadata": {},
     "output_type": "execute_result"
    }
   ],
   "source": [
    "include(\"../solver/solver.jl\")\n",
    "include(\"../src/utils/activation.jl\")\n",
    "include(\"../src/utils/problem.jl\")\n",
    "include(\"../src/utils/util.jl\")\n",
    "include(\"../src/feasibility/reverify.jl\")"
   ]
  },
  {
   "cell_type": "code",
   "execution_count": 3,
   "metadata": {},
   "outputs": [
    {
     "data": {
      "text/plain": [
       ":Optimal"
      ]
     },
     "execution_count": 3,
     "metadata": {},
     "output_type": "execute_result"
    }
   ],
   "source": [
    "small_nnet = read_nnet(\"networks/small_nnet.txt\")\n",
    "# input = Constraints(zeros(1,1), zeros(1), [0.0], [0.0])\n",
    "# output = Constraints(zeros(1,1), zeros(1), [100.0], [0.0]) # check this - if one output var should be zeros(1,1)\n",
    "# need to get A[I, -I]x = [upper, -lower] somehow:\n",
    "A = Matrix{Float64}(2,1)\n",
    "A[[1, 2]] = [1, -1]\n",
    "input  = HPolytope(A, [0.0, 0.0])\n",
    "output = HPolytope(A, [100.0, 0.0])\n",
    "problem = FeasibilityProblem(small_nnet, input, output)\n",
    "optimizer = GLPKSolverMIP()\n",
    "solver = ReverifySolver(1000.0, optimizer)\n",
    "solve(solver, problem)"
   ]
  },
  {
   "cell_type": "code",
   "execution_count": null,
   "metadata": {
    "collapsed": true
   },
   "outputs": [],
   "source": []
  }
 ],
 "metadata": {
  "kernelspec": {
   "display_name": "Julia 0.6.2",
   "language": "julia",
   "name": "julia-0.6"
  },
  "language_info": {
   "file_extension": ".jl",
   "mimetype": "application/julia",
   "name": "julia",
   "version": "0.6.2"
  }
 },
 "nbformat": 4,
 "nbformat_minor": 2
}
